{
 "cells": [
  {
   "cell_type": "code",
   "execution_count": 5,
   "metadata": {},
   "outputs": [],
   "source": [
    "import os\n",
    "import csv\n",
    "import sys"
   ]
  },
  {
   "cell_type": "code",
   "execution_count": 6,
   "metadata": {},
   "outputs": [],
   "source": [
    "sys.path.append(\"..\")\n",
    "from signal_processing_algorithms.final_algorithm import arrival_time_predictor"
   ]
  },
  {
   "cell_type": "code",
   "execution_count": 7,
   "metadata": {},
   "outputs": [],
   "source": [
    "# Directory containing the mseed files\n",
    "data_dir = '../data/lunar/test/data/S15_GradeA/'"
   ]
  },
  {
   "cell_type": "code",
   "execution_count": 8,
   "metadata": {},
   "outputs": [],
   "source": [
    "# CSV output file path\n",
    "output_csv = './arrival_times_results.csv'"
   ]
  },
  {
   "cell_type": "code",
   "execution_count": 11,
   "metadata": {},
   "outputs": [
    {
     "ename": "NameError",
     "evalue": "name 'os' is not defined",
     "output_type": "error",
     "traceback": [
      "\u001b[0;31m---------------------------------------------------------------------------\u001b[0m",
      "\u001b[0;31mNameError\u001b[0m                                 Traceback (most recent call last)",
      "Cell \u001b[0;32mIn[11], line 10\u001b[0m\n\u001b[1;32m      7\u001b[0m         file_path \u001b[38;5;241m=\u001b[39m os\u001b[38;5;241m.\u001b[39mpath\u001b[38;5;241m.\u001b[39mjoin(data_dir, file_name)\n\u001b[1;32m      9\u001b[0m         \u001b[38;5;66;03m# Call arrival_time_predictor for the current file\u001b[39;00m\n\u001b[0;32m---> 10\u001b[0m         arrival_info \u001b[38;5;241m=\u001b[39m \u001b[43marrival_time_predictor\u001b[49m\u001b[43m(\u001b[49m\u001b[43mfile_path\u001b[49m\u001b[43m)\u001b[49m\n\u001b[1;32m     11\u001b[0m         all_results\u001b[38;5;241m.\u001b[39mappend(arrival_info)\n\u001b[1;32m     13\u001b[0m \u001b[38;5;66;03m# Write the results to a CSV file\u001b[39;00m\n",
      "File \u001b[0;32m~/Library/CloudStorage/OneDrive-Personal/projects/MaphiaQuanticaXNasa/notebooks/../signal_processing_algorithms/final_algorithm.py:81\u001b[0m, in \u001b[0;36marrival_time_predictor\u001b[0;34m(mseed_file1)\u001b[0m\n\u001b[1;32m     77\u001b[0m     on_time_str \u001b[38;5;241m=\u001b[39m datetime\u001b[38;5;241m.\u001b[39mstrftime(on_time, \u001b[38;5;124m\"\u001b[39m\u001b[38;5;124m%\u001b[39m\u001b[38;5;124mY-\u001b[39m\u001b[38;5;124m%\u001b[39m\u001b[38;5;124mm-\u001b[39m\u001b[38;5;132;01m%d\u001b[39;00m\u001b[38;5;124mT\u001b[39m\u001b[38;5;124m%\u001b[39m\u001b[38;5;124mH:\u001b[39m\u001b[38;5;124m%\u001b[39m\u001b[38;5;124mM:\u001b[39m\u001b[38;5;124m%\u001b[39m\u001b[38;5;124mS.\u001b[39m\u001b[38;5;132;01m%f\u001b[39;00m\u001b[38;5;124m\"\u001b[39m)\n\u001b[1;32m     78\u001b[0m     detection_times\u001b[38;5;241m.\u001b[39mappend(on_time_str)\n\u001b[1;32m     80\u001b[0m \u001b[38;5;28;01mreturn\u001b[39;00m {\n\u001b[0;32m---> 81\u001b[0m     \u001b[38;5;124m\"\u001b[39m\u001b[38;5;124mfilename\u001b[39m\u001b[38;5;124m\"\u001b[39m: \u001b[43mos\u001b[49m\u001b[38;5;241m.\u001b[39mpath\u001b[38;5;241m.\u001b[39msplitext(os\u001b[38;5;241m.\u001b[39mpath\u001b[38;5;241m.\u001b[39mbasename(mseed_file1))[\u001b[38;5;241m0\u001b[39m],\n\u001b[1;32m     82\u001b[0m     \u001b[38;5;124m\"\u001b[39m\u001b[38;5;124mdetection_times_rel(sec)\u001b[39m\u001b[38;5;124m\"\u001b[39m: detection_times_rel,\n\u001b[1;32m     83\u001b[0m     \u001b[38;5;124m\"\u001b[39m\u001b[38;5;124mdetection_times(\u001b[39m\u001b[38;5;124m%\u001b[39m\u001b[38;5;124mY-\u001b[39m\u001b[38;5;124m%\u001b[39m\u001b[38;5;124mm-\u001b[39m\u001b[38;5;132;01m%d\u001b[39;00m\u001b[38;5;124mT\u001b[39m\u001b[38;5;124m%\u001b[39m\u001b[38;5;124mH:\u001b[39m\u001b[38;5;124m%\u001b[39m\u001b[38;5;124mM:\u001b[39m\u001b[38;5;124m%\u001b[39m\u001b[38;5;124mS.\u001b[39m\u001b[38;5;132;01m%f\u001b[39;00m\u001b[38;5;124m)\u001b[39m\u001b[38;5;124m\"\u001b[39m: detection_times\n\u001b[1;32m     84\u001b[0m }\n",
      "\u001b[0;31mNameError\u001b[0m: name 'os' is not defined"
     ]
    }
   ],
   "source": [
    "\n",
    "# Loop over the directory and collect results\n",
    "all_results = []\n",
    "\n",
    "# Loop over the directory\n",
    "for file_name in os.listdir(data_dir):\n",
    "    if file_name.endswith('.mseed'):\n",
    "        file_path = os.path.join(data_dir, file_name)\n",
    "        \n",
    "        # Call arrival_time_predictor for the current file\n",
    "        arrival_info = arrival_time_predictor(file_path)\n",
    "        all_results.append(arrival_info)\n",
    "\n",
    "# Write the results to a CSV file\n",
    "with open(output_csv, mode='w', newline='') as csv_file:\n",
    "    fieldnames = ['filename', 'detection_times_rel(sec)', 'detection_times(%Y-%m-%dT%H:%M:%S.%f)']\n",
    "    writer = csv.DictWriter(csv_file, fieldnames=fieldnames)\n",
    "    \n",
    "    # Write the header\n",
    "    writer.writeheader()\n",
    "    \n",
    "    # Write each result\n",
    "    for result in all_results:\n",
    "        # Convert list values to strings to properly write in CSV\n",
    "        result['detection_times_rel(sec)'] = ', '.join(map(str, result['detection_times_rel(sec)']))\n",
    "        result['detection_times(%Y-%m-%dT%H:%M:%S.%f)'] = ', '.join(result['detection_times(%Y-%m-%dT%H:%M:%S.%f)'])\n",
    "        writer.writerow(result)\n",
    "\n",
    "print(f\"Results have been written to {output_csv}\")"
   ]
  },
  {
   "cell_type": "code",
   "execution_count": null,
   "metadata": {},
   "outputs": [],
   "source": []
  }
 ],
 "metadata": {
  "kernelspec": {
   "display_name": "Python 3",
   "language": "python",
   "name": "python3"
  },
  "language_info": {
   "codemirror_mode": {
    "name": "ipython",
    "version": 3
   },
   "file_extension": ".py",
   "mimetype": "text/x-python",
   "name": "python",
   "nbconvert_exporter": "python",
   "pygments_lexer": "ipython3",
   "version": "3.9.19"
  }
 },
 "nbformat": 4,
 "nbformat_minor": 2
}
