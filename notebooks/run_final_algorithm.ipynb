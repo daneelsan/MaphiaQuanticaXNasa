{
 "cells": [
  {
   "cell_type": "code",
   "execution_count": 2,
   "metadata": {},
   "outputs": [],
   "source": [
    "import os\n",
    "import csv\n",
    "import sys"
   ]
  },
  {
   "cell_type": "code",
   "execution_count": 9,
   "metadata": {},
   "outputs": [],
   "source": [
    "sys.path.append(\"..\")\n",
    "from signal_processing_algorithms.final_algorithm_modified import arrival_time_predictor"
   ]
  },
  {
   "cell_type": "code",
   "execution_count": 10,
   "metadata": {},
   "outputs": [],
   "source": [
    "# Directory containing the mseed files\n",
    "data_dir = '../data/lunar/test/data/S15_GradeA/'"
   ]
  },
  {
   "cell_type": "code",
   "execution_count": 11,
   "metadata": {},
   "outputs": [],
   "source": [
    "# CSV output file path\n",
    "output_csv = './lunar_test_data_S15_GradeA_predictions.csv'"
   ]
  },
  {
   "cell_type": "code",
   "execution_count": 12,
   "metadata": {},
   "outputs": [
    {
     "name": "stdout",
     "output_type": "stream",
     "text": [
      "{'filename': 'xa.s15.00.mhz.1973-10-27HR00_evid00134', 'detection_events': [{'time_rel(sec)': 40448.45283018868, 'time(%Y-%m-%dT%H:%M:%S.%f)': '1973-10-27T11:14:09.006830'}]}\n",
      "{'filename': 'xa.s15.00.mhz.1975-06-22HR00_evid00194', 'detection_events': [{'time_rel(sec)': 71702.49056603774, 'time(%Y-%m-%dT%H:%M:%S.%f)': '1975-06-22T19:55:02.717566'}]}\n",
      "{'filename': 'xa.s15.00.mhz.1974-11-17HR00_evid00162', 'detection_events': [{'time_rel(sec)': 71698.71698113208, 'time(%Y-%m-%dT%H:%M:%S.%f)': '1974-11-17T19:54:58.833981'}]}\n",
      "{'filename': 'xa.s15.00.mhz.1974-10-19HR00_evid00157', 'detection_events': [{'time_rel(sec)': 70719.69811320755, 'time(%Y-%m-%dT%H:%M:%S.%f)': '1974-10-19T19:38:40.143113'}]}\n",
      "{'filename': 'xa.s15.00.mhz.1973-08-10HR00_evid00126', 'detection_events': [{'time_rel(sec)': 64835.47169811321, 'time(%Y-%m-%dT%H:%M:%S.%f)': '1973-08-10T18:00:35.977698'}]}\n",
      "{'filename': 'xa.s15.00.mhz.1973-04-04HR00_evid00098', 'detection_events': [{'time_rel(sec)': 66538.71698113208, 'time(%Y-%m-%dT%H:%M:%S.%f)': '1973-04-04T19:28:41.653172'}]}\n",
      "{'filename': 'xa.s15.00.mhz.1974-11-21HR00_evid00166', 'detection_events': [{'time_rel(sec)': 48022.79245283019, 'time(%Y-%m-%dT%H:%M:%S.%f)': '1974-11-21T13:20:23.412453'}]}\n",
      "{'filename': 'xa.s15.00.mhz.1975-04-12HR00_evid00190', 'detection_events': [{'time_rel(sec)': 34652.22641509434, 'time(%Y-%m-%dT%H:%M:%S.%f)': '1975-04-12T09:37:32.744415'}, {'time_rel(sec)': 65744.60377358491, 'time(%Y-%m-%dT%H:%M:%S.%f)': '1975-04-12T18:15:45.121774'}]}\n",
      "{'filename': 'xa.s15.00.mhz.1974-12-15HR00_evid00169', 'detection_events': [{'time_rel(sec)': 14511.547169811322, 'time(%Y-%m-%dT%H:%M:%S.%f)': '1974-12-15T04:01:51.705170'}, {'time_rel(sec)': 33069.28301886792, 'time(%Y-%m-%dT%H:%M:%S.%f)': '1974-12-15T09:11:09.441019'}]}\n",
      "{'filename': 'xa.s15.00.mhz.1974-12-15HR00_evid00170', 'detection_events': [{'time_rel(sec)': 14511.547169811322, 'time(%Y-%m-%dT%H:%M:%S.%f)': '1974-12-15T04:01:51.705170'}, {'time_rel(sec)': 33069.28301886792, 'time(%Y-%m-%dT%H:%M:%S.%f)': '1974-12-15T09:11:09.441019'}]}\n",
      "Results have been written to ./lunar_test_data_S15_GradeA_predictions.csv\n"
     ]
    }
   ],
   "source": [
    "\n",
    "# Loop over the directory and collect results\n",
    "all_results = []\n",
    "\n",
    "# Loop over the directory\n",
    "for file_name in os.listdir(data_dir):\n",
    "    if file_name.endswith('.mseed'):\n",
    "        file_path = os.path.join(data_dir, file_name)\n",
    "        \n",
    "        # Call arrival_time_predictor for the current file\n",
    "        arrival_info = arrival_time_predictor(file_path)\n",
    "        all_results.append(arrival_info)\n",
    "\n",
    "# Write the results to a CSV file\n",
    "with open(output_csv, mode='w', newline='') as csv_file:\n",
    "    fieldnames = ['filename', 'time_abs(%Y-%m-%dT%H:%M:%S.%f)', 'time_rel(sec)']\n",
    "    writer = csv.DictWriter(csv_file, fieldnames=fieldnames)\n",
    "    \n",
    "    # Write the header\n",
    "    writer.writeheader()\n",
    "    \n",
    "    # Write each result\n",
    "    for result in all_results:\n",
    "        row = {}\n",
    "        print(result)\n",
    "        for dt in result[\"detection_events\"]:\n",
    "            row['filename'] = result['filename']\n",
    "            row['time_abs(%Y-%m-%dT%H:%M:%S.%f)'] = dt['time(%Y-%m-%dT%H:%M:%S.%f)']\n",
    "            row['time_rel(sec)'] = dt['time_rel(sec)']\n",
    "            writer.writerow(row)\n",
    "\n",
    "print(f\"Results have been written to {output_csv}\")"
   ]
  }
 ],
 "metadata": {
  "kernelspec": {
   "display_name": "Python 3",
   "language": "python",
   "name": "python3"
  },
  "language_info": {
   "codemirror_mode": {
    "name": "ipython",
    "version": 3
   },
   "file_extension": ".py",
   "mimetype": "text/x-python",
   "name": "python",
   "nbconvert_exporter": "python",
   "pygments_lexer": "ipython3",
   "version": "3.9.19"
  }
 },
 "nbformat": 4,
 "nbformat_minor": 2
}
